{
 "cells": [
  {
   "cell_type": "markdown",
   "id": "ba07a9fc",
   "metadata": {},
   "source": [
    "Universidad del valle de Guatemala  \n",
    "Dpto. Ciencias de la computacion  \n",
    "Inteligencia Artificial  \n",
    "Alberto Suriano  \n",
    "\n",
    "Laboratorio 8\n",
    "Andres Quinto - 18288  \n",
    "Marlon Hernández - 15177  \n",
    "\n",
    "[Repositorio_aqui](https://github.com/AndresQuinto5/IA_LAB08.git)"
   ]
  },
  {
   "cell_type": "markdown",
   "id": "7d136480",
   "metadata": {},
   "source": [
    "### Tasks 1 - Teoría  \n",
    "\n",
    "1. Investigar el **algoritmo AC-3** y su relación con el algoritmo de **backtracking search**  \n",
    "    El **algoritmo AC-3** es un algoritmo de consistencia de arcos utilizado en problemas de satisfacción de restricciones (CSP). Su objetivo es reducir los dominios de las variables eliminando valores que no tienen soporte, es decir, que no pueden formar parte de una solución consistente con las restricciones. Por otro lado, **el algoritmo de backtracking search** es una técnica de búsqueda que intenta construir una solución paso a paso, retrocediendo cuando encuentra que una asignación de valores no lleva a una solución válida. La relación entre ambos es que **AC-3** puede utilizarse antes del **backtracking** para preprocesar el CSP, reduciendo los dominios y, por lo tanto, el número de asignaciones a probar durante el backtracking  \n",
    "\n",
    "    Un ejemplo de este algoritmo podria ser, tenes una caja de lápices de colores y quieres asegurarte de que puedes dibujar un arcoíris completo. Pero hay una regla: cada color solo puede ir al lado de ciertos colores. **El algoritmo AC-3** es como un amigo que revisa todos los lápices y se asegura de que cada uno tenga un vecino adecuado antes de empezar a dibujar. Así, cuando comiences a colorear, no te detendrás a mitad de camino porque todos los lápices están en el orden correcto para hacer un arcoíris perfecto.\n",
    "\n",
    "    **referencias:**\n",
    "    - [Algoritmo AC-3](https://en.wikipedia.org/wiki/AC-3_algorithm)\n",
    "    - [Backtracking Algorithms](https://www.freecodecamp.org/news/backtracking-algorithms-recursive-search/)\n",
    "\n",
    "    \n",
    "2. Defina en sus propias palabras el término “Arc Consistency”  \n",
    "    **En mis propias palabras, “Arc Consistency”** se refiere a un estado en el que, para cada par de variables en un CSP que comparten una restricción, cada valor de la primera variable tiene al menos un valor correspondiente en la segunda variable que satisface la restricción entre ellas. Esto asegura que no hay valores aislados que hagan imposible encontrar una solución completa al problema.\n",
    "\n",
    "    Un ejemplo podria un juego de parejas de cartas. Cada carta tiene un número y debes encontrarle una pareja que tenga el mismo número. **“Arc Consistency”** significa que todas las cartas tienen al menos una pareja posible. Si alguna carta no tuviera pareja, no podrías ganar el juego. Entonces, antes de jugar, revisas todas las cartas para asegurarte de que cada una tiene una pareja y así sabes que el juego se puede ganar.\n",
    "\n",
    "    **referencias:**\n",
    "    - [Arc Consistency](https://en.wikipedia.org/wiki/Arc_consistency)\n",
    "    - [Arc Consistency Explained](https://www.boristhebrave.com/2021/08/30/arc-consistency-explained/)"
   ]
  },
  {
   "cell_type": "markdown",
   "id": "c356319f",
   "metadata": {},
   "source": [
    "### Task 2 - CSP con Backtracking, Beam y Local Search"
   ]
  },
  {
   "cell_type": "code",
   "execution_count": 55,
   "id": "5facfe01",
   "metadata": {},
   "outputs": [],
   "source": [
    "class CSP:\n",
    "    def __init__(self, variables, domains, constraints):\n",
    "        self.variables = variables\n",
    "        self.domains = domains\n",
    "        self.constraints = constraints\n",
    "        \n",
    "    def is_consistent(self, assignment):\n",
    "        for constraint in self.constraints:\n",
    "            if not constraint(assignment):\n",
    "                return False\n",
    "        return True"
   ]
  },
  {
   "cell_type": "code",
   "execution_count": 59,
   "id": "faeeef85",
   "metadata": {},
   "outputs": [
    {
     "name": "stdout",
     "output_type": "stream",
     "text": [
      "Asignación de ejemplo:\n",
      "E1: Lunes\n",
      "E2: Martes\n",
      "E3: Miércoles\n",
      "E4: Lunes\n",
      "E5: Martes\n",
      "E6: Miércoles\n",
      "E7: Lunes\n",
      "\n",
      "¿La asignación cumple con las restricciones? False\n"
     ]
    }
   ],
   "source": []
  }
 ],
 "metadata": {
  "kernelspec": {
   "display_name": "LAB08",
   "language": "python",
   "name": "python3"
  },
  "language_info": {
   "codemirror_mode": {
    "name": "ipython",
    "version": 3
   },
   "file_extension": ".py",
   "mimetype": "text/x-python",
   "name": "python",
   "nbconvert_exporter": "python",
   "pygments_lexer": "ipython3",
   "version": "3.11.8"
  }
 },
 "nbformat": 4,
 "nbformat_minor": 5
}
