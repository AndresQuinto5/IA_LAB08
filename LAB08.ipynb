{
 "cells": [
  {
   "cell_type": "markdown",
   "id": "ba07a9fc",
   "metadata": {},
   "source": [
    "Universidad del valle de Guatemala  \n",
    "Dpto. Ciencias de la computacion  \n",
    "Inteligencia Artificial  \n",
    "Alberto Suriano  \n",
    "\n",
    "Laboratorio 8\n",
    "Andres Quinto - 18288  \n",
    "Marlon Hernández - 15177  \n",
    "\n",
    "[Repositorio_aqui](https://github.com/AndresQuinto5/IA_LAB08.git)"
   ]
  },
  {
   "cell_type": "markdown",
   "id": "7d136480",
   "metadata": {},
   "source": [
    "### Tasks 1 - Teoría  \n",
    "\n",
    "1. Investigar el **algoritmo AC-3** y su relación con el algoritmo de **backtracking search**  \n",
    "    El **algoritmo AC-3** es un algoritmo de consistencia de arcos utilizado en problemas de satisfacción de restricciones (CSP). Su objetivo es reducir los dominios de las variables eliminando valores que no tienen soporte, es decir, que no pueden formar parte de una solución consistente con las restricciones. Por otro lado, **el algoritmo de backtracking search** es una técnica de búsqueda que intenta construir una solución paso a paso, retrocediendo cuando encuentra que una asignación de valores no lleva a una solución válida. La relación entre ambos es que **AC-3** puede utilizarse antes del **backtracking** para preprocesar el CSP, reduciendo los dominios y, por lo tanto, el número de asignaciones a probar durante el backtracking  \n",
    "\n",
    "    **referencias:**\n",
    "    - [Algoritmo AC-3](https://en.wikipedia.org/wiki/AC-3_algorithm)\n",
    "    - [Backtracking Algorithms](https://www.freecodecamp.org/news/backtracking-algorithms-recursive-search/)\n",
    "\n",
    "    \n",
    "2. Defina en sus propias palabras el término “Arc Consistency”  \n",
    "    **En mis propias palabras, “Arc Consistency”** se refiere a un estado en el que, para cada par de variables en un CSP que comparten una restricción, cada valor de la primera variable tiene al menos un valor correspondiente en la segunda variable que satisface la restricción entre ellas. Esto asegura que no hay valores aislados que hagan imposible encontrar una solución completa al problema.\n",
    "\n",
    "    **referencias:**\n",
    "    - [Arc Consistency](https://en.wikipedia.org/wiki/Arc_consistency)\n",
    "    - [Arc Consistency Explained](https://www.boristhebrave.com/2021/08/30/arc-consistency-explained/)"
   ]
  }
 ],
 "metadata": {
  "kernelspec": {
   "display_name": "",
   "name": ""
  },
  "language_info": {
   "name": ""
  }
 },
 "nbformat": 4,
 "nbformat_minor": 5
}
